{
  "nbformat": 4,
  "nbformat_minor": 0,
  "metadata": {
    "kernelspec": {
      "display_name": "Python 3",
      "language": "python",
      "name": "python3"
    },
    "language_info": {
      "codemirror_mode": {
        "name": "ipython",
        "version": 3
      },
      "file_extension": ".py",
      "mimetype": "text/x-python",
      "name": "python",
      "nbconvert_exporter": "python",
      "pygments_lexer": "ipython3",
      "version": "3.7.6"
    },
    "colab": {
      "name": "[HW2]20203198.ipynb",
      "provenance": [],
      "collapsed_sections": [],
      "include_colab_link": true
    },
    "accelerator": "GPU",
    "widgets": {
      "application/vnd.jupyter.widget-state+json": {
        "0a36bbb0e7bf4269b13d0a31af6ab5f5": {
          "model_module": "@jupyter-widgets/controls",
          "model_name": "HBoxModel",
          "state": {
            "_view_name": "HBoxView",
            "_dom_classes": [],
            "_model_name": "HBoxModel",
            "_view_module": "@jupyter-widgets/controls",
            "_model_module_version": "1.5.0",
            "_view_count": null,
            "_view_module_version": "1.5.0",
            "box_style": "",
            "layout": "IPY_MODEL_f5d5c93483e64e4d936a3ecc0226d760",
            "_model_module": "@jupyter-widgets/controls",
            "children": [
              "IPY_MODEL_359b6752da2143e084a42a3139bdc218",
              "IPY_MODEL_1290b5c6c1444b5d933af25309c2dd74"
            ]
          }
        },
        "f5d5c93483e64e4d936a3ecc0226d760": {
          "model_module": "@jupyter-widgets/base",
          "model_name": "LayoutModel",
          "state": {
            "_view_name": "LayoutView",
            "grid_template_rows": null,
            "right": null,
            "justify_content": null,
            "_view_module": "@jupyter-widgets/base",
            "overflow": null,
            "_model_module_version": "1.2.0",
            "_view_count": null,
            "flex_flow": null,
            "width": null,
            "min_width": null,
            "border": null,
            "align_items": null,
            "bottom": null,
            "_model_module": "@jupyter-widgets/base",
            "top": null,
            "grid_column": null,
            "overflow_y": null,
            "overflow_x": null,
            "grid_auto_flow": null,
            "grid_area": null,
            "grid_template_columns": null,
            "flex": null,
            "_model_name": "LayoutModel",
            "justify_items": null,
            "grid_row": null,
            "max_height": null,
            "align_content": null,
            "visibility": null,
            "align_self": null,
            "height": null,
            "min_height": null,
            "padding": null,
            "grid_auto_rows": null,
            "grid_gap": null,
            "max_width": null,
            "order": null,
            "_view_module_version": "1.2.0",
            "grid_template_areas": null,
            "object_position": null,
            "object_fit": null,
            "grid_auto_columns": null,
            "margin": null,
            "display": null,
            "left": null
          }
        },
        "359b6752da2143e084a42a3139bdc218": {
          "model_module": "@jupyter-widgets/controls",
          "model_name": "IntProgressModel",
          "state": {
            "_view_name": "ProgressView",
            "style": "IPY_MODEL_212147df33984da7b3d8a2654930ec91",
            "_dom_classes": [],
            "description": "",
            "_model_name": "IntProgressModel",
            "bar_style": "info",
            "max": 1,
            "_view_module": "@jupyter-widgets/controls",
            "_model_module_version": "1.5.0",
            "value": 1,
            "_view_count": null,
            "_view_module_version": "1.5.0",
            "orientation": "horizontal",
            "min": 0,
            "description_tooltip": null,
            "_model_module": "@jupyter-widgets/controls",
            "layout": "IPY_MODEL_0d759eb31045412b992601fd5ec888b3"
          }
        },
        "1290b5c6c1444b5d933af25309c2dd74": {
          "model_module": "@jupyter-widgets/controls",
          "model_name": "HTMLModel",
          "state": {
            "_view_name": "HTMLView",
            "style": "IPY_MODEL_229f03cd8ebd489ebe34728d99ea1e4d",
            "_dom_classes": [],
            "description": "",
            "_model_name": "HTMLModel",
            "placeholder": "​",
            "_view_module": "@jupyter-widgets/controls",
            "_model_module_version": "1.5.0",
            "value": " 169009152/? [00:20&lt;00:00, 34373199.62it/s]",
            "_view_count": null,
            "_view_module_version": "1.5.0",
            "description_tooltip": null,
            "_model_module": "@jupyter-widgets/controls",
            "layout": "IPY_MODEL_0dd1ddb2a4714cc7b7a719971726313f"
          }
        },
        "212147df33984da7b3d8a2654930ec91": {
          "model_module": "@jupyter-widgets/controls",
          "model_name": "ProgressStyleModel",
          "state": {
            "_view_name": "StyleView",
            "_model_name": "ProgressStyleModel",
            "description_width": "initial",
            "_view_module": "@jupyter-widgets/base",
            "_model_module_version": "1.5.0",
            "_view_count": null,
            "_view_module_version": "1.2.0",
            "bar_color": null,
            "_model_module": "@jupyter-widgets/controls"
          }
        },
        "0d759eb31045412b992601fd5ec888b3": {
          "model_module": "@jupyter-widgets/base",
          "model_name": "LayoutModel",
          "state": {
            "_view_name": "LayoutView",
            "grid_template_rows": null,
            "right": null,
            "justify_content": null,
            "_view_module": "@jupyter-widgets/base",
            "overflow": null,
            "_model_module_version": "1.2.0",
            "_view_count": null,
            "flex_flow": null,
            "width": null,
            "min_width": null,
            "border": null,
            "align_items": null,
            "bottom": null,
            "_model_module": "@jupyter-widgets/base",
            "top": null,
            "grid_column": null,
            "overflow_y": null,
            "overflow_x": null,
            "grid_auto_flow": null,
            "grid_area": null,
            "grid_template_columns": null,
            "flex": null,
            "_model_name": "LayoutModel",
            "justify_items": null,
            "grid_row": null,
            "max_height": null,
            "align_content": null,
            "visibility": null,
            "align_self": null,
            "height": null,
            "min_height": null,
            "padding": null,
            "grid_auto_rows": null,
            "grid_gap": null,
            "max_width": null,
            "order": null,
            "_view_module_version": "1.2.0",
            "grid_template_areas": null,
            "object_position": null,
            "object_fit": null,
            "grid_auto_columns": null,
            "margin": null,
            "display": null,
            "left": null
          }
        },
        "229f03cd8ebd489ebe34728d99ea1e4d": {
          "model_module": "@jupyter-widgets/controls",
          "model_name": "DescriptionStyleModel",
          "state": {
            "_view_name": "StyleView",
            "_model_name": "DescriptionStyleModel",
            "description_width": "",
            "_view_module": "@jupyter-widgets/base",
            "_model_module_version": "1.5.0",
            "_view_count": null,
            "_view_module_version": "1.2.0",
            "_model_module": "@jupyter-widgets/controls"
          }
        },
        "0dd1ddb2a4714cc7b7a719971726313f": {
          "model_module": "@jupyter-widgets/base",
          "model_name": "LayoutModel",
          "state": {
            "_view_name": "LayoutView",
            "grid_template_rows": null,
            "right": null,
            "justify_content": null,
            "_view_module": "@jupyter-widgets/base",
            "overflow": null,
            "_model_module_version": "1.2.0",
            "_view_count": null,
            "flex_flow": null,
            "width": null,
            "min_width": null,
            "border": null,
            "align_items": null,
            "bottom": null,
            "_model_module": "@jupyter-widgets/base",
            "top": null,
            "grid_column": null,
            "overflow_y": null,
            "overflow_x": null,
            "grid_auto_flow": null,
            "grid_area": null,
            "grid_template_columns": null,
            "flex": null,
            "_model_name": "LayoutModel",
            "justify_items": null,
            "grid_row": null,
            "max_height": null,
            "align_content": null,
            "visibility": null,
            "align_self": null,
            "height": null,
            "min_height": null,
            "padding": null,
            "grid_auto_rows": null,
            "grid_gap": null,
            "max_width": null,
            "order": null,
            "_view_module_version": "1.2.0",
            "grid_template_areas": null,
            "object_position": null,
            "object_fit": null,
            "grid_auto_columns": null,
            "margin": null,
            "display": null,
            "left": null
          }
        },
        "0de1f199eadf48128de52f4428afd202": {
          "model_module": "@jupyter-widgets/controls",
          "model_name": "HBoxModel",
          "state": {
            "_view_name": "HBoxView",
            "_dom_classes": [],
            "_model_name": "HBoxModel",
            "_view_module": "@jupyter-widgets/controls",
            "_model_module_version": "1.5.0",
            "_view_count": null,
            "_view_module_version": "1.5.0",
            "box_style": "",
            "layout": "IPY_MODEL_9831979a93cc49c692c00c7dca47f5f9",
            "_model_module": "@jupyter-widgets/controls",
            "children": [
              "IPY_MODEL_76518fb724174abda92b0ac6efe0162b",
              "IPY_MODEL_bc40f2157dba47b4b42e0a3e68a76300"
            ]
          }
        },
        "9831979a93cc49c692c00c7dca47f5f9": {
          "model_module": "@jupyter-widgets/base",
          "model_name": "LayoutModel",
          "state": {
            "_view_name": "LayoutView",
            "grid_template_rows": null,
            "right": null,
            "justify_content": null,
            "_view_module": "@jupyter-widgets/base",
            "overflow": null,
            "_model_module_version": "1.2.0",
            "_view_count": null,
            "flex_flow": null,
            "width": null,
            "min_width": null,
            "border": null,
            "align_items": null,
            "bottom": null,
            "_model_module": "@jupyter-widgets/base",
            "top": null,
            "grid_column": null,
            "overflow_y": null,
            "overflow_x": null,
            "grid_auto_flow": null,
            "grid_area": null,
            "grid_template_columns": null,
            "flex": null,
            "_model_name": "LayoutModel",
            "justify_items": null,
            "grid_row": null,
            "max_height": null,
            "align_content": null,
            "visibility": null,
            "align_self": null,
            "height": null,
            "min_height": null,
            "padding": null,
            "grid_auto_rows": null,
            "grid_gap": null,
            "max_width": null,
            "order": null,
            "_view_module_version": "1.2.0",
            "grid_template_areas": null,
            "object_position": null,
            "object_fit": null,
            "grid_auto_columns": null,
            "margin": null,
            "display": null,
            "left": null
          }
        },
        "76518fb724174abda92b0ac6efe0162b": {
          "model_module": "@jupyter-widgets/controls",
          "model_name": "IntProgressModel",
          "state": {
            "_view_name": "ProgressView",
            "style": "IPY_MODEL_19a5e64f2d2d4616ac330aad3e8571ed",
            "_dom_classes": [],
            "description": "100%",
            "_model_name": "IntProgressModel",
            "bar_style": "success",
            "max": 100,
            "_view_module": "@jupyter-widgets/controls",
            "_model_module_version": "1.5.0",
            "value": 100,
            "_view_count": null,
            "_view_module_version": "1.5.0",
            "orientation": "horizontal",
            "min": 0,
            "description_tooltip": null,
            "_model_module": "@jupyter-widgets/controls",
            "layout": "IPY_MODEL_da7343e4f7624c3f84cb23f0e30fbf2f"
          }
        },
        "bc40f2157dba47b4b42e0a3e68a76300": {
          "model_module": "@jupyter-widgets/controls",
          "model_name": "HTMLModel",
          "state": {
            "_view_name": "HTMLView",
            "style": "IPY_MODEL_71a31f9fc5b84759a27eb22f5822c3e0",
            "_dom_classes": [],
            "description": "",
            "_model_name": "HTMLModel",
            "placeholder": "​",
            "_view_module": "@jupyter-widgets/controls",
            "_model_module_version": "1.5.0",
            "value": " 100/100 [48:55&lt;00:00, 29.36s/it]",
            "_view_count": null,
            "_view_module_version": "1.5.0",
            "description_tooltip": null,
            "_model_module": "@jupyter-widgets/controls",
            "layout": "IPY_MODEL_d99f0116224b40ec8a9c35951ecd96e0"
          }
        },
        "19a5e64f2d2d4616ac330aad3e8571ed": {
          "model_module": "@jupyter-widgets/controls",
          "model_name": "ProgressStyleModel",
          "state": {
            "_view_name": "StyleView",
            "_model_name": "ProgressStyleModel",
            "description_width": "initial",
            "_view_module": "@jupyter-widgets/base",
            "_model_module_version": "1.5.0",
            "_view_count": null,
            "_view_module_version": "1.2.0",
            "bar_color": null,
            "_model_module": "@jupyter-widgets/controls"
          }
        },
        "da7343e4f7624c3f84cb23f0e30fbf2f": {
          "model_module": "@jupyter-widgets/base",
          "model_name": "LayoutModel",
          "state": {
            "_view_name": "LayoutView",
            "grid_template_rows": null,
            "right": null,
            "justify_content": null,
            "_view_module": "@jupyter-widgets/base",
            "overflow": null,
            "_model_module_version": "1.2.0",
            "_view_count": null,
            "flex_flow": null,
            "width": null,
            "min_width": null,
            "border": null,
            "align_items": null,
            "bottom": null,
            "_model_module": "@jupyter-widgets/base",
            "top": null,
            "grid_column": null,
            "overflow_y": null,
            "overflow_x": null,
            "grid_auto_flow": null,
            "grid_area": null,
            "grid_template_columns": null,
            "flex": null,
            "_model_name": "LayoutModel",
            "justify_items": null,
            "grid_row": null,
            "max_height": null,
            "align_content": null,
            "visibility": null,
            "align_self": null,
            "height": null,
            "min_height": null,
            "padding": null,
            "grid_auto_rows": null,
            "grid_gap": null,
            "max_width": null,
            "order": null,
            "_view_module_version": "1.2.0",
            "grid_template_areas": null,
            "object_position": null,
            "object_fit": null,
            "grid_auto_columns": null,
            "margin": null,
            "display": null,
            "left": null
          }
        },
        "71a31f9fc5b84759a27eb22f5822c3e0": {
          "model_module": "@jupyter-widgets/controls",
          "model_name": "DescriptionStyleModel",
          "state": {
            "_view_name": "StyleView",
            "_model_name": "DescriptionStyleModel",
            "description_width": "",
            "_view_module": "@jupyter-widgets/base",
            "_model_module_version": "1.5.0",
            "_view_count": null,
            "_view_module_version": "1.2.0",
            "_model_module": "@jupyter-widgets/controls"
          }
        },
        "d99f0116224b40ec8a9c35951ecd96e0": {
          "model_module": "@jupyter-widgets/base",
          "model_name": "LayoutModel",
          "state": {
            "_view_name": "LayoutView",
            "grid_template_rows": null,
            "right": null,
            "justify_content": null,
            "_view_module": "@jupyter-widgets/base",
            "overflow": null,
            "_model_module_version": "1.2.0",
            "_view_count": null,
            "flex_flow": null,
            "width": null,
            "min_width": null,
            "border": null,
            "align_items": null,
            "bottom": null,
            "_model_module": "@jupyter-widgets/base",
            "top": null,
            "grid_column": null,
            "overflow_y": null,
            "overflow_x": null,
            "grid_auto_flow": null,
            "grid_area": null,
            "grid_template_columns": null,
            "flex": null,
            "_model_name": "LayoutModel",
            "justify_items": null,
            "grid_row": null,
            "max_height": null,
            "align_content": null,
            "visibility": null,
            "align_self": null,
            "height": null,
            "min_height": null,
            "padding": null,
            "grid_auto_rows": null,
            "grid_gap": null,
            "max_width": null,
            "order": null,
            "_view_module_version": "1.2.0",
            "grid_template_areas": null,
            "object_position": null,
            "object_fit": null,
            "grid_auto_columns": null,
            "margin": null,
            "display": null,
            "left": null
          }
        },
        "d181b5589aa8486aa67d544a6f0573e5": {
          "model_module": "@jupyter-widgets/controls",
          "model_name": "HBoxModel",
          "state": {
            "_view_name": "HBoxView",
            "_dom_classes": [],
            "_model_name": "HBoxModel",
            "_view_module": "@jupyter-widgets/controls",
            "_model_module_version": "1.5.0",
            "_view_count": null,
            "_view_module_version": "1.5.0",
            "box_style": "",
            "layout": "IPY_MODEL_55a6cb3e4176472fb3cdf76448450e07",
            "_model_module": "@jupyter-widgets/controls",
            "children": [
              "IPY_MODEL_a198d3ec6c4f48dbb9423ae15fec6bc0",
              "IPY_MODEL_b7e385640cba4d98970145eb59073bd4"
            ]
          }
        },
        "55a6cb3e4176472fb3cdf76448450e07": {
          "model_module": "@jupyter-widgets/base",
          "model_name": "LayoutModel",
          "state": {
            "_view_name": "LayoutView",
            "grid_template_rows": null,
            "right": null,
            "justify_content": null,
            "_view_module": "@jupyter-widgets/base",
            "overflow": null,
            "_model_module_version": "1.2.0",
            "_view_count": null,
            "flex_flow": null,
            "width": null,
            "min_width": null,
            "border": null,
            "align_items": null,
            "bottom": null,
            "_model_module": "@jupyter-widgets/base",
            "top": null,
            "grid_column": null,
            "overflow_y": null,
            "overflow_x": null,
            "grid_auto_flow": null,
            "grid_area": null,
            "grid_template_columns": null,
            "flex": null,
            "_model_name": "LayoutModel",
            "justify_items": null,
            "grid_row": null,
            "max_height": null,
            "align_content": null,
            "visibility": null,
            "align_self": null,
            "height": null,
            "min_height": null,
            "padding": null,
            "grid_auto_rows": null,
            "grid_gap": null,
            "max_width": null,
            "order": null,
            "_view_module_version": "1.2.0",
            "grid_template_areas": null,
            "object_position": null,
            "object_fit": null,
            "grid_auto_columns": null,
            "margin": null,
            "display": null,
            "left": null
          }
        },
        "a198d3ec6c4f48dbb9423ae15fec6bc0": {
          "model_module": "@jupyter-widgets/controls",
          "model_name": "IntProgressModel",
          "state": {
            "_view_name": "ProgressView",
            "style": "IPY_MODEL_b04a251b8f394bb2a86097099cd7eb03",
            "_dom_classes": [],
            "description": "100%",
            "_model_name": "IntProgressModel",
            "bar_style": "success",
            "max": 100,
            "_view_module": "@jupyter-widgets/controls",
            "_model_module_version": "1.5.0",
            "value": 100,
            "_view_count": null,
            "_view_module_version": "1.5.0",
            "orientation": "horizontal",
            "min": 0,
            "description_tooltip": null,
            "_model_module": "@jupyter-widgets/controls",
            "layout": "IPY_MODEL_c4dd19f526694ef68fc73f5ec4205a10"
          }
        },
        "b7e385640cba4d98970145eb59073bd4": {
          "model_module": "@jupyter-widgets/controls",
          "model_name": "HTMLModel",
          "state": {
            "_view_name": "HTMLView",
            "style": "IPY_MODEL_724df65f20894d5eac2b01e3fbc3abcf",
            "_dom_classes": [],
            "description": "",
            "_model_name": "HTMLModel",
            "placeholder": "​",
            "_view_module": "@jupyter-widgets/controls",
            "_model_module_version": "1.5.0",
            "value": " 100/100 [1:16:49&lt;00:00, 46.10s/it]",
            "_view_count": null,
            "_view_module_version": "1.5.0",
            "description_tooltip": null,
            "_model_module": "@jupyter-widgets/controls",
            "layout": "IPY_MODEL_bfde2a482ebd40ac91019e854db8af6b"
          }
        },
        "b04a251b8f394bb2a86097099cd7eb03": {
          "model_module": "@jupyter-widgets/controls",
          "model_name": "ProgressStyleModel",
          "state": {
            "_view_name": "StyleView",
            "_model_name": "ProgressStyleModel",
            "description_width": "initial",
            "_view_module": "@jupyter-widgets/base",
            "_model_module_version": "1.5.0",
            "_view_count": null,
            "_view_module_version": "1.2.0",
            "bar_color": null,
            "_model_module": "@jupyter-widgets/controls"
          }
        },
        "c4dd19f526694ef68fc73f5ec4205a10": {
          "model_module": "@jupyter-widgets/base",
          "model_name": "LayoutModel",
          "state": {
            "_view_name": "LayoutView",
            "grid_template_rows": null,
            "right": null,
            "justify_content": null,
            "_view_module": "@jupyter-widgets/base",
            "overflow": null,
            "_model_module_version": "1.2.0",
            "_view_count": null,
            "flex_flow": null,
            "width": null,
            "min_width": null,
            "border": null,
            "align_items": null,
            "bottom": null,
            "_model_module": "@jupyter-widgets/base",
            "top": null,
            "grid_column": null,
            "overflow_y": null,
            "overflow_x": null,
            "grid_auto_flow": null,
            "grid_area": null,
            "grid_template_columns": null,
            "flex": null,
            "_model_name": "LayoutModel",
            "justify_items": null,
            "grid_row": null,
            "max_height": null,
            "align_content": null,
            "visibility": null,
            "align_self": null,
            "height": null,
            "min_height": null,
            "padding": null,
            "grid_auto_rows": null,
            "grid_gap": null,
            "max_width": null,
            "order": null,
            "_view_module_version": "1.2.0",
            "grid_template_areas": null,
            "object_position": null,
            "object_fit": null,
            "grid_auto_columns": null,
            "margin": null,
            "display": null,
            "left": null
          }
        },
        "724df65f20894d5eac2b01e3fbc3abcf": {
          "model_module": "@jupyter-widgets/controls",
          "model_name": "DescriptionStyleModel",
          "state": {
            "_view_name": "StyleView",
            "_model_name": "DescriptionStyleModel",
            "description_width": "",
            "_view_module": "@jupyter-widgets/base",
            "_model_module_version": "1.5.0",
            "_view_count": null,
            "_view_module_version": "1.2.0",
            "_model_module": "@jupyter-widgets/controls"
          }
        },
        "bfde2a482ebd40ac91019e854db8af6b": {
          "model_module": "@jupyter-widgets/base",
          "model_name": "LayoutModel",
          "state": {
            "_view_name": "LayoutView",
            "grid_template_rows": null,
            "right": null,
            "justify_content": null,
            "_view_module": "@jupyter-widgets/base",
            "overflow": null,
            "_model_module_version": "1.2.0",
            "_view_count": null,
            "flex_flow": null,
            "width": null,
            "min_width": null,
            "border": null,
            "align_items": null,
            "bottom": null,
            "_model_module": "@jupyter-widgets/base",
            "top": null,
            "grid_column": null,
            "overflow_y": null,
            "overflow_x": null,
            "grid_auto_flow": null,
            "grid_area": null,
            "grid_template_columns": null,
            "flex": null,
            "_model_name": "LayoutModel",
            "justify_items": null,
            "grid_row": null,
            "max_height": null,
            "align_content": null,
            "visibility": null,
            "align_self": null,
            "height": null,
            "min_height": null,
            "padding": null,
            "grid_auto_rows": null,
            "grid_gap": null,
            "max_width": null,
            "order": null,
            "_view_module_version": "1.2.0",
            "grid_template_areas": null,
            "object_position": null,
            "object_fit": null,
            "grid_auto_columns": null,
            "margin": null,
            "display": null,
            "left": null
          }
        },
        "e1fb47ad0d7f4ae192f8ebb641fecf3c": {
          "model_module": "@jupyter-widgets/controls",
          "model_name": "HBoxModel",
          "state": {
            "_view_name": "HBoxView",
            "_dom_classes": [],
            "_model_name": "HBoxModel",
            "_view_module": "@jupyter-widgets/controls",
            "_model_module_version": "1.5.0",
            "_view_count": null,
            "_view_module_version": "1.5.0",
            "box_style": "",
            "layout": "IPY_MODEL_8043af46d43145c1ad5a15e140e19c03",
            "_model_module": "@jupyter-widgets/controls",
            "children": [
              "IPY_MODEL_b9d7b772a4be4656a3ce1d9e983278b6",
              "IPY_MODEL_5bc69c6705cf4d019c73ed3644e88e7d"
            ]
          }
        },
        "8043af46d43145c1ad5a15e140e19c03": {
          "model_module": "@jupyter-widgets/base",
          "model_name": "LayoutModel",
          "state": {
            "_view_name": "LayoutView",
            "grid_template_rows": null,
            "right": null,
            "justify_content": null,
            "_view_module": "@jupyter-widgets/base",
            "overflow": null,
            "_model_module_version": "1.2.0",
            "_view_count": null,
            "flex_flow": null,
            "width": null,
            "min_width": null,
            "border": null,
            "align_items": null,
            "bottom": null,
            "_model_module": "@jupyter-widgets/base",
            "top": null,
            "grid_column": null,
            "overflow_y": null,
            "overflow_x": null,
            "grid_auto_flow": null,
            "grid_area": null,
            "grid_template_columns": null,
            "flex": null,
            "_model_name": "LayoutModel",
            "justify_items": null,
            "grid_row": null,
            "max_height": null,
            "align_content": null,
            "visibility": null,
            "align_self": null,
            "height": null,
            "min_height": null,
            "padding": null,
            "grid_auto_rows": null,
            "grid_gap": null,
            "max_width": null,
            "order": null,
            "_view_module_version": "1.2.0",
            "grid_template_areas": null,
            "object_position": null,
            "object_fit": null,
            "grid_auto_columns": null,
            "margin": null,
            "display": null,
            "left": null
          }
        },
        "b9d7b772a4be4656a3ce1d9e983278b6": {
          "model_module": "@jupyter-widgets/controls",
          "model_name": "IntProgressModel",
          "state": {
            "_view_name": "ProgressView",
            "style": "IPY_MODEL_ce8cd834fbc941aa89008000cd60da03",
            "_dom_classes": [],
            "description": "100%",
            "_model_name": "IntProgressModel",
            "bar_style": "success",
            "max": 100,
            "_view_module": "@jupyter-widgets/controls",
            "_model_module_version": "1.5.0",
            "value": 100,
            "_view_count": null,
            "_view_module_version": "1.5.0",
            "orientation": "horizontal",
            "min": 0,
            "description_tooltip": null,
            "_model_module": "@jupyter-widgets/controls",
            "layout": "IPY_MODEL_e224ea4a281948b7984cbd3a8dd324e3"
          }
        },
        "5bc69c6705cf4d019c73ed3644e88e7d": {
          "model_module": "@jupyter-widgets/controls",
          "model_name": "HTMLModel",
          "state": {
            "_view_name": "HTMLView",
            "style": "IPY_MODEL_6aaeabf3db4647b8a3ec73bbf21b2520",
            "_dom_classes": [],
            "description": "",
            "_model_name": "HTMLModel",
            "placeholder": "​",
            "_view_module": "@jupyter-widgets/controls",
            "_model_module_version": "1.5.0",
            "value": " 100/100 [39:34&lt;00:00, 23.75s/it]",
            "_view_count": null,
            "_view_module_version": "1.5.0",
            "description_tooltip": null,
            "_model_module": "@jupyter-widgets/controls",
            "layout": "IPY_MODEL_08360148c98a4b9e881b0f6b101e1db1"
          }
        },
        "ce8cd834fbc941aa89008000cd60da03": {
          "model_module": "@jupyter-widgets/controls",
          "model_name": "ProgressStyleModel",
          "state": {
            "_view_name": "StyleView",
            "_model_name": "ProgressStyleModel",
            "description_width": "initial",
            "_view_module": "@jupyter-widgets/base",
            "_model_module_version": "1.5.0",
            "_view_count": null,
            "_view_module_version": "1.2.0",
            "bar_color": null,
            "_model_module": "@jupyter-widgets/controls"
          }
        },
        "e224ea4a281948b7984cbd3a8dd324e3": {
          "model_module": "@jupyter-widgets/base",
          "model_name": "LayoutModel",
          "state": {
            "_view_name": "LayoutView",
            "grid_template_rows": null,
            "right": null,
            "justify_content": null,
            "_view_module": "@jupyter-widgets/base",
            "overflow": null,
            "_model_module_version": "1.2.0",
            "_view_count": null,
            "flex_flow": null,
            "width": null,
            "min_width": null,
            "border": null,
            "align_items": null,
            "bottom": null,
            "_model_module": "@jupyter-widgets/base",
            "top": null,
            "grid_column": null,
            "overflow_y": null,
            "overflow_x": null,
            "grid_auto_flow": null,
            "grid_area": null,
            "grid_template_columns": null,
            "flex": null,
            "_model_name": "LayoutModel",
            "justify_items": null,
            "grid_row": null,
            "max_height": null,
            "align_content": null,
            "visibility": null,
            "align_self": null,
            "height": null,
            "min_height": null,
            "padding": null,
            "grid_auto_rows": null,
            "grid_gap": null,
            "max_width": null,
            "order": null,
            "_view_module_version": "1.2.0",
            "grid_template_areas": null,
            "object_position": null,
            "object_fit": null,
            "grid_auto_columns": null,
            "margin": null,
            "display": null,
            "left": null
          }
        },
        "6aaeabf3db4647b8a3ec73bbf21b2520": {
          "model_module": "@jupyter-widgets/controls",
          "model_name": "DescriptionStyleModel",
          "state": {
            "_view_name": "StyleView",
            "_model_name": "DescriptionStyleModel",
            "description_width": "",
            "_view_module": "@jupyter-widgets/base",
            "_model_module_version": "1.5.0",
            "_view_count": null,
            "_view_module_version": "1.2.0",
            "_model_module": "@jupyter-widgets/controls"
          }
        },
        "08360148c98a4b9e881b0f6b101e1db1": {
          "model_module": "@jupyter-widgets/base",
          "model_name": "LayoutModel",
          "state": {
            "_view_name": "LayoutView",
            "grid_template_rows": null,
            "right": null,
            "justify_content": null,
            "_view_module": "@jupyter-widgets/base",
            "overflow": null,
            "_model_module_version": "1.2.0",
            "_view_count": null,
            "flex_flow": null,
            "width": null,
            "min_width": null,
            "border": null,
            "align_items": null,
            "bottom": null,
            "_model_module": "@jupyter-widgets/base",
            "top": null,
            "grid_column": null,
            "overflow_y": null,
            "overflow_x": null,
            "grid_auto_flow": null,
            "grid_area": null,
            "grid_template_columns": null,
            "flex": null,
            "_model_name": "LayoutModel",
            "justify_items": null,
            "grid_row": null,
            "max_height": null,
            "align_content": null,
            "visibility": null,
            "align_self": null,
            "height": null,
            "min_height": null,
            "padding": null,
            "grid_auto_rows": null,
            "grid_gap": null,
            "max_width": null,
            "order": null,
            "_view_module_version": "1.2.0",
            "grid_template_areas": null,
            "object_position": null,
            "object_fit": null,
            "grid_auto_columns": null,
            "margin": null,
            "display": null,
            "left": null
          }
        }
      }
    }
  },
  "cells": [
    {
      "cell_type": "markdown",
      "metadata": {
        "id": "view-in-github",
        "colab_type": "text"
      },
      "source": [
        "<a href=\"https://colab.research.google.com/github/zeroistwo/deeplearning/blob/master/ResNet.ipynb\" target=\"_parent\"><img src=\"https://colab.research.google.com/assets/colab-badge.svg\" alt=\"Open In Colab\"/></a>"
      ]
    },
    {
      "cell_type": "markdown",
      "metadata": {
        "id": "RqDWv_rPMMrY",
        "colab_type": "text"
      },
      "source": [
        "# AI502/KSE527, Homework 02"
      ]
    },
    {
      "cell_type": "code",
      "metadata": {
        "id": "ZJEK8Egyze7q",
        "colab_type": "code",
        "outputId": "e0cc2105-ed50-484a-8766-c18c345da63f",
        "colab": {
          "base_uri": "https://localhost:8080/",
          "height": 233
        }
      },
      "source": [
        "!pip install ptflops"
      ],
      "execution_count": 0,
      "outputs": [
        {
          "output_type": "stream",
          "text": [
            "Collecting ptflops\n",
            "  Downloading https://files.pythonhosted.org/packages/08/f2/4a52249d9eccc7b9caed5b0022604e8e1b3b738d9b9927db198963c4f578/ptflops-0.6.1.tar.gz\n",
            "Requirement already satisfied: torch in /usr/local/lib/python3.6/dist-packages (from ptflops) (1.5.0+cu101)\n",
            "Requirement already satisfied: future in /usr/local/lib/python3.6/dist-packages (from torch->ptflops) (0.16.0)\n",
            "Requirement already satisfied: numpy in /usr/local/lib/python3.6/dist-packages (from torch->ptflops) (1.18.3)\n",
            "Building wheels for collected packages: ptflops\n",
            "  Building wheel for ptflops (setup.py) ... \u001b[?25l\u001b[?25hdone\n",
            "  Created wheel for ptflops: filename=ptflops-0.6.1-cp36-none-any.whl size=8513 sha256=140114ecbe1c7c0adf2bf1ccfb6ae509d466e1cce18ab00cc19c632eb02903c8\n",
            "  Stored in directory: /root/.cache/pip/wheels/72/9d/42/7047ed6168fbc3d1d3794f2119a7ba032e28df06a5c6db5ea2\n",
            "Successfully built ptflops\n",
            "Installing collected packages: ptflops\n",
            "Successfully installed ptflops-0.6.1\n"
          ],
          "name": "stdout"
        }
      ]
    },
    {
      "cell_type": "code",
      "metadata": {
        "id": "Boxqx-LNMMrY",
        "colab_type": "code",
        "colab": {}
      },
      "source": [
        "import numpy as np\n",
        "\n",
        "import torch\n",
        "import torch.nn as nn\n",
        "import torch.nn.functional as F\n",
        "import torchvision.datasets as dsets\n",
        "import torchvision.transforms as transforms\n",
        "import torchvision.models as models\n",
        "\n",
        "from torchsummary import summary\n",
        "from tqdm.auto import tqdm\n",
        "\n",
        "from ptflops import get_model_complexity_info \n",
        "## Reference of ptflops: https://github.com/sovrasov/flops-counter.pytorch"
      ],
      "execution_count": 0,
      "outputs": []
    },
    {
      "cell_type": "markdown",
      "metadata": {
        "id": "gbu8q4f8MMrb",
        "colab_type": "text"
      },
      "source": [
        "# CIFAR100"
      ]
    },
    {
      "cell_type": "code",
      "metadata": {
        "id": "21BAdyasMMrc",
        "colab_type": "code",
        "colab": {}
      },
      "source": [
        "# Global Variable For training\n",
        "# You just use the following hyper-parameters\n",
        "BATCH_SIZE = 128\n",
        "NUM_EPOCH = 100\n",
        "LEARNING_RATE = 0.01\n",
        "CRITERION = nn.CrossEntropyLoss()"
      ],
      "execution_count": 0,
      "outputs": []
    },
    {
      "cell_type": "code",
      "metadata": {
        "id": "RoXW9Z2iMMre",
        "colab_type": "code",
        "outputId": "cd7f5e7d-1b2a-4991-d266-bbc908876672",
        "colab": {
          "base_uri": "https://localhost:8080/",
          "height": 85,
          "referenced_widgets": [
            "0a36bbb0e7bf4269b13d0a31af6ab5f5",
            "f5d5c93483e64e4d936a3ecc0226d760",
            "359b6752da2143e084a42a3139bdc218",
            "1290b5c6c1444b5d933af25309c2dd74",
            "212147df33984da7b3d8a2654930ec91",
            "0d759eb31045412b992601fd5ec888b3",
            "229f03cd8ebd489ebe34728d99ea1e4d",
            "0dd1ddb2a4714cc7b7a719971726313f"
          ]
        }
      },
      "source": [
        "# CIFAR10 Dataset\n",
        "train_dataset = dsets.CIFAR100(root='./data', train=True, \n",
        "                              transform=transforms.Compose([\n",
        "                                            transforms.RandomCrop(32, padding=4),\n",
        "                                            transforms.RandomHorizontalFlip(),\n",
        "                                            transforms.ToTensor(),\n",
        "                                            transforms.Normalize((0.4914, 0.4822, 0.4465), (0.2023, 0.1994, 0.2010)),\n",
        "                                        ]), download=True)\n",
        "test_dataset = dsets.CIFAR100(root='./data', train=False,\n",
        "                             transform=transforms.Compose([\n",
        "                                            transforms.ToTensor(),\n",
        "                                            transforms.Normalize((0.4914, 0.4822, 0.4465), (0.2023, 0.1994, 0.2010)),\n",
        "                                        ]))\n",
        "train_loader = torch.utils.data.DataLoader(dataset=train_dataset, batch_size=BATCH_SIZE, shuffle=True)\n",
        "test_loader = torch.utils.data.DataLoader(dataset=test_dataset, batch_size=BATCH_SIZE, shuffle=False)"
      ],
      "execution_count": 0,
      "outputs": [
        {
          "output_type": "stream",
          "text": [
            "Downloading https://www.cs.toronto.edu/~kriz/cifar-100-python.tar.gz to ./data/cifar-100-python.tar.gz\n"
          ],
          "name": "stdout"
        },
        {
          "output_type": "display_data",
          "data": {
            "application/vnd.jupyter.widget-view+json": {
              "model_id": "0a36bbb0e7bf4269b13d0a31af6ab5f5",
              "version_minor": 0,
              "version_major": 2
            },
            "text/plain": [
              "HBox(children=(IntProgress(value=1, bar_style='info', max=1), HTML(value='')))"
            ]
          },
          "metadata": {
            "tags": []
          }
        },
        {
          "output_type": "stream",
          "text": [
            "Extracting ./data/cifar-100-python.tar.gz to ./data\n"
          ],
          "name": "stdout"
        }
      ]
    },
    {
      "cell_type": "markdown",
      "metadata": {
        "id": "w5gEsXioMMrf",
        "colab_type": "text"
      },
      "source": [
        "# Fit / Eval function"
      ]
    },
    {
      "cell_type": "code",
      "metadata": {
        "id": "zAtTcmddMMrg",
        "colab_type": "code",
        "colab": {}
      },
      "source": [
        "def fit(model,train_loader):\n",
        "    model.train()\n",
        "    device = next(model.parameters()).device.index\n",
        "    optimizer = torch.optim.SGD(model.parameters(), lr=LEARNING_RATE, momentum=0.9)\n",
        "    losses = []\n",
        "    for i, data in enumerate(train_loader):\n",
        "        image = data[0].type(torch.FloatTensor).cuda(device)\n",
        "        label = data[1].type(torch.LongTensor).cuda(device)\n",
        "\n",
        "        pred_label = model(image)\n",
        "        loss = CRITERION(pred_label, label)\n",
        "        losses.append(loss.item())\n",
        "\n",
        "        optimizer.zero_grad()\n",
        "        loss.backward()\n",
        "        optimizer.step()\n",
        "    avg_loss = sum(losses)/len(losses)\n",
        "    return avg_loss"
      ],
      "execution_count": 0,
      "outputs": []
    },
    {
      "cell_type": "code",
      "metadata": {
        "id": "NPHLcR91MMri",
        "colab_type": "code",
        "colab": {}
      },
      "source": [
        "def eval(model, test_loader):\n",
        "    model.eval()\n",
        "    device = next(model.parameters()).device.index\n",
        "    pred_labels = []\n",
        "    real_labels = []\n",
        "\n",
        "    for i, data in enumerate(test_loader):\n",
        "        image = data[0].type(torch.FloatTensor).cuda(device)\n",
        "        label = data[1].type(torch.LongTensor).cuda(device)\n",
        "        real_labels += list(label.cpu().detach().numpy())\n",
        "        \n",
        "        pred_label = model(image)\n",
        "        pred_label = list(pred_label.cpu().detach().numpy())\n",
        "        pred_labels += pred_label\n",
        "        \n",
        "    real_labels = np.array(real_labels)\n",
        "    pred_labels = np.array(pred_labels)\n",
        "    pred_labels = pred_labels.argmax(axis=1)\n",
        "    acc = sum(real_labels==pred_labels)/len(real_labels)*100\n",
        "    \n",
        "    return acc"
      ],
      "execution_count": 0,
      "outputs": []
    },
    {
      "cell_type": "markdown",
      "metadata": {
        "id": "W593WrXf9Uaz",
        "colab_type": "text"
      },
      "source": [
        "### Model"
      ]
    },
    {
      "cell_type": "code",
      "metadata": {
        "id": "7_sxPrMJWdeN",
        "colab_type": "code",
        "colab": {}
      },
      "source": [
        "plainnet_model = Net18(PlainBlock, [2, 2, 2, 2], 100).cuda()"
      ],
      "execution_count": 0,
      "outputs": []
    },
    {
      "cell_type": "code",
      "metadata": {
        "id": "FAw8MyLqMZGg",
        "colab_type": "code",
        "outputId": "737f0e15-0c0b-4fa8-e94b-3b886ee611f3",
        "colab": {
          "base_uri": "https://localhost:8080/",
          "height": 247,
          "referenced_widgets": [
            "0de1f199eadf48128de52f4428afd202",
            "9831979a93cc49c692c00c7dca47f5f9",
            "76518fb724174abda92b0ac6efe0162b",
            "bc40f2157dba47b4b42e0a3e68a76300",
            "19a5e64f2d2d4616ac330aad3e8571ed",
            "da7343e4f7624c3f84cb23f0e30fbf2f",
            "71a31f9fc5b84759a27eb22f5822c3e0",
            "d99f0116224b40ec8a9c35951ecd96e0"
          ]
        }
      },
      "source": [
        "pm_losses = []\n",
        "pm_accuracy = []\n",
        "for epoch in tqdm(range(NUM_EPOCH)):\n",
        "    pm_loss = fit(plainnet_model, train_loader)\n",
        "    pm_losses.append(pm_loss)\n",
        "    pm_acc = eval(plainnet_model, test_loader)\n",
        "    pm_accuracy.append(pm_acc)\n",
        "    \n",
        "    if (epoch + 1) % 10 == 0:\n",
        "        print(\"{} epoch - loss : {}, accuracy : {}\".format(epoch + 1, pm_loss, pm_acc))"
      ],
      "execution_count": 0,
      "outputs": [
        {
          "output_type": "display_data",
          "data": {
            "application/vnd.jupyter.widget-view+json": {
              "model_id": "0de1f199eadf48128de52f4428afd202",
              "version_minor": 0,
              "version_major": 2
            },
            "text/plain": [
              "HBox(children=(IntProgress(value=0), HTML(value='')))"
            ]
          },
          "metadata": {
            "tags": []
          }
        },
        {
          "output_type": "stream",
          "text": [
            "10 epoch - loss : 1.3325507181989567, accuracy : 54.94\n",
            "20 epoch - loss : 0.6935366602504954, accuracy : 61.870000000000005\n",
            "30 epoch - loss : 0.3508738261049666, accuracy : 65.3\n",
            "40 epoch - loss : 0.16247554037653272, accuracy : 68.07\n",
            "50 epoch - loss : 0.09343183193060443, accuracy : 68.01\n",
            "60 epoch - loss : 0.04835100974077764, accuracy : 69.19999999999999\n",
            "70 epoch - loss : 0.033047395565396986, accuracy : 69.57\n",
            "80 epoch - loss : 0.021740435906078503, accuracy : 71.1\n",
            "90 epoch - loss : 0.01820388250291119, accuracy : 71.12\n",
            "100 epoch - loss : 0.012182638732730733, accuracy : 70.78\n",
            "\n"
          ],
          "name": "stdout"
        }
      ]
    },
    {
      "cell_type": "code",
      "metadata": {
        "id": "ol7PnKmQFbpT",
        "colab_type": "code",
        "outputId": "f54d944a-4c7c-4b72-e76c-7d6c372efb13",
        "colab": {
          "base_uri": "https://localhost:8080/",
          "height": 295
        }
      },
      "source": [
        "import matplotlib.pyplot as plt\n",
        "plt.plot(pm_accuracy)\n",
        "plt.xlabel('epoch')\n",
        "plt.ylabel('accuracy')\n",
        "plt.title('18-layer CNNs Accuracy')\n",
        "plt.show()"
      ],
      "execution_count": 0,
      "outputs": [
        {
          "output_type": "display_data",
          "data": {
            "image/png": "[encoded data removed]",
            "text/plain": [
              "<Figure size 432x288 with 1 Axes>"
            ]
          },
          "metadata": {
            "tags": [],
            "needs_background": "light"
          }
        }
      ]
    },
    {
      "cell_type": "code",
      "metadata": {
        "id": "IzQT_VedfKMn",
        "colab_type": "code",
        "outputId": "7759422a-ace6-4b37-85c7-1cf7d297c87b",
        "colab": {
          "base_uri": "https://localhost:8080/",
          "height": 295
        }
      },
      "source": [
        "import matplotlib.pyplot as plt\n",
        "plt.plot(pm_losses)\n",
        "plt.xlabel('epoch')\n",
        "plt.ylabel('loss')\n",
        "plt.title('18-layer CNNs Loss')\n",
        "plt.show()"
      ],
      "execution_count": 0,
      "outputs": [
        {
          "output_type": "display_data",
          "data": {
            "image/png": "[encoded data removed]",
            "text/plain": [
              "<Figure size 432x288 with 1 Axes>"
            ]
          },
          "metadata": {
            "tags": [],
            "needs_background": "light"
          }
        }
      ]
    },
    {
      "cell_type": "code",
      "metadata": {
        "id": "QAilk0OoWNNI",
        "colab_type": "code",
        "colab": {}
      },
      "source": [
        "resnet_model = Net18(ResidualBlock, [2, 2, 2, 2], 100).cuda()"
      ],
      "execution_count": 0,
      "outputs": []
    },
    {
      "cell_type": "code",
      "metadata": {
        "id": "aOTpvmrwe48H",
        "colab_type": "code",
        "outputId": "a8da0afa-dab4-422f-c8f0-1ed6c794963b",
        "colab": {
          "base_uri": "https://localhost:8080/",
          "height": 247,
          "referenced_widgets": [
            "d181b5589aa8486aa67d544a6f0573e5",
            "55a6cb3e4176472fb3cdf76448450e07",
            "a198d3ec6c4f48dbb9423ae15fec6bc0",
            "b7e385640cba4d98970145eb59073bd4",
            "b04a251b8f394bb2a86097099cd7eb03",
            "c4dd19f526694ef68fc73f5ec4205a10",
            "724df65f20894d5eac2b01e3fbc3abcf",
            "bfde2a482ebd40ac91019e854db8af6b"
          ]
        }
      },
      "source": [
        "rm_losses = []\n",
        "rm_accuracy = []\n",
        "for epoch in tqdm(range(NUM_EPOCH)):\n",
        "    rm_loss = fit(resnet_model, train_loader)\n",
        "    rm_losses.append(rm_loss)\n",
        "    rm_acc = eval(resnet_model, test_loader)\n",
        "    rm_accuracy.append(rm_acc)\n",
        "    \n",
        "    if (epoch + 1) % 10 == 0:\n",
        "        print(\"{} epoch - loss : {}, accuracy : {}\".format(epoch + 1, rm_loss, rm_acc))"
      ],
      "execution_count": 0,
      "outputs": [
        {
          "output_type": "display_data",
          "data": {
            "application/vnd.jupyter.widget-view+json": {
              "model_id": "d181b5589aa8486aa67d544a6f0573e5",
              "version_minor": 0,
              "version_major": 2
            },
            "text/plain": [
              "HBox(children=(IntProgress(value=0), HTML(value='')))"
            ]
          },
          "metadata": {
            "tags": []
          }
        },
        {
          "output_type": "stream",
          "text": [
            "10 epoch - loss : 1.1606078507650235, accuracy : 59.21999999999999\n",
            "20 epoch - loss : 0.5627557553751085, accuracy : 65.42999999999999\n",
            "30 epoch - loss : 0.24849126059228502, accuracy : 67.62\n",
            "40 epoch - loss : 0.10355118130479017, accuracy : 69.35\n",
            "50 epoch - loss : 0.05760208765983277, accuracy : 70.74000000000001\n",
            "60 epoch - loss : 0.024941993796307106, accuracy : 71.36\n",
            "70 epoch - loss : 0.017817541459084624, accuracy : 71.5\n",
            "80 epoch - loss : 0.010812214973485073, accuracy : 71.85000000000001\n",
            "90 epoch - loss : 0.008499688005594112, accuracy : 72.04\n",
            "100 epoch - loss : 0.005813255349633849, accuracy : 72.72\n",
            "\n"
          ],
          "name": "stdout"
        }
      ]
    },
    {
      "cell_type": "code",
      "metadata": {
        "id": "0El3XCwkDmiv",
        "colab_type": "code",
        "outputId": "68fc0733-1261-427e-e36d-982905f64f45",
        "colab": {
          "base_uri": "https://localhost:8080/",
          "height": 295
        }
      },
      "source": [
        "import matplotlib.pyplot as plt\n",
        "plt.plot(rm_accuracy)\n",
        "plt.xlabel('epoch')\n",
        "plt.ylabel('accuracy')\n",
        "plt.title('ResNet18 Accuracy')\n",
        "plt.show()"
      ],
      "execution_count": 0,
      "outputs": [
        {
          "output_type": "display_data",
          "data": {
            "image/png": "[encoded data removed]",
            "text/plain": [
              "<Figure size 432x288 with 1 Axes>"
            ]
          },
          "metadata": {
            "tags": [],
            "needs_background": "light"
          }
        }
      ]
    },
    {
      "cell_type": "code",
      "metadata": {
        "id": "2krc6uR2DqrC",
        "colab_type": "code",
        "outputId": "7dbdaf43-ef68-48e7-cdfd-395df5d0cd71",
        "colab": {
          "base_uri": "https://localhost:8080/",
          "height": 295
        }
      },
      "source": [
        "import matplotlib.pyplot as plt\n",
        "plt.plot(rm_losses)\n",
        "plt.xlabel('epoch')\n",
        "plt.ylabel('loss')\n",
        "plt.title('ResNet18 Loss')\n",
        "plt.show()"
      ],
      "execution_count": 0,
      "outputs": [
        {
          "output_type": "display_data",
          "data": {
            "image/png": "[encoded data removed]",
            "text/plain": [
              "<Figure size 432x288 with 1 Axes>"
            ]
          },
          "metadata": {
            "tags": [],
            "needs_background": "light"
          }
        }
      ]
    },
    {
      "cell_type": "code",
      "metadata": {
        "id": "c9FPDMzXKVed",
        "colab_type": "code",
        "colab": {}
      },
      "source": [
        "mobilenet_model = Net18(MobileBlock, [2, 2, 2, 2], 100).cuda()"
      ],
      "execution_count": 0,
      "outputs": []
    },
    {
      "cell_type": "code",
      "metadata": {
        "id": "zjvAU3GeQJV_",
        "colab_type": "code",
        "outputId": "b9c2a008-8d25-45a1-f1e1-076e1f67515a",
        "colab": {
          "base_uri": "https://localhost:8080/",
          "height": 247,
          "referenced_widgets": [
            "e1fb47ad0d7f4ae192f8ebb641fecf3c",
            "8043af46d43145c1ad5a15e140e19c03",
            "b9d7b772a4be4656a3ce1d9e983278b6",
            "5bc69c6705cf4d019c73ed3644e88e7d",
            "ce8cd834fbc941aa89008000cd60da03",
            "e224ea4a281948b7984cbd3a8dd324e3",
            "6aaeabf3db4647b8a3ec73bbf21b2520",
            "08360148c98a4b9e881b0f6b101e1db1"
          ]
        }
      },
      "source": [
        "mm_losses = []\n",
        "mm_accuracy = []\n",
        "for epoch in tqdm(range(NUM_EPOCH)):\n",
        "    mm_loss = fit(mobilenet_model, train_loader)\n",
        "    mm_losses.append(mm_loss)\n",
        "    mm_acc = eval(mobilenet_model, test_loader)\n",
        "    mm_accuracy.append(mm_acc)\n",
        "    \n",
        "    if (epoch + 1) % 10 == 0:\n",
        "        print(\"{} epoch - loss : {}, accuracy : {}\".format(epoch + 1, mm_loss, mm_acc))"
      ],
      "execution_count": 0,
      "outputs": [
        {
          "output_type": "display_data",
          "data": {
            "application/vnd.jupyter.widget-view+json": {
              "model_id": "e1fb47ad0d7f4ae192f8ebb641fecf3c",
              "version_minor": 0,
              "version_major": 2
            },
            "text/plain": [
              "HBox(children=(IntProgress(value=0), HTML(value='')))"
            ]
          },
          "metadata": {
            "tags": []
          }
        },
        {
          "output_type": "stream",
          "text": [
            "10 epoch - loss : 1.8143207956762875, accuracy : 38.83\n",
            "20 epoch - loss : 1.1881058121581212, accuracy : 60.58\n",
            "30 epoch - loss : 0.854404065919959, accuracy : 62.980000000000004\n",
            "40 epoch - loss : 0.6206308421881302, accuracy : 63.78\n",
            "50 epoch - loss : 0.4548903955218127, accuracy : 63.839999999999996\n",
            "60 epoch - loss : 0.3247573199250814, accuracy : 64.92999999999999\n",
            "70 epoch - loss : 0.2399588023000361, accuracy : 64.91\n",
            "80 epoch - loss : 0.181412713702225, accuracy : 65.03999999999999\n",
            "90 epoch - loss : 0.13827670018767457, accuracy : 65.42999999999999\n",
            "100 epoch - loss : 0.10852557591274571, accuracy : 65.34\n",
            "\n"
          ],
          "name": "stdout"
        }
      ]
    },
    {
      "cell_type": "markdown",
      "metadata": {
        "id": "0_zvGzBbMMrk",
        "colab_type": "text"
      },
      "source": [
        "# Construct the 18 layers network\n",
        "\n",
        "All of PlainNet18, ResNet18, MobileNet18 have same network structure but they are consist of different convolution block (PlainBlock, ResidualBlock, MobileBlock). You have to utilize Net18() when you define the network."
      ]
    },
    {
      "cell_type": "code",
      "metadata": {
        "id": "6Js7cqUpMMrm",
        "colab_type": "code",
        "colab": {}
      },
      "source": [
        "class Net18(nn.Module):\n",
        "    def __init__(self, block, num_blocks, num_classes):\n",
        "        super(Net18, self).__init__()\n",
        "        self.inp = 64\n",
        "        self.conv0 = nn.Conv2d(3, 64, kernel_size=3, stride=1, padding=1, bias=False)\n",
        "        self.bn0 = nn.BatchNorm2d(64)\n",
        "        self.relu = nn.ReLU(inplace=True)\n",
        "        self.layer1 = self._make_layer(block, 64, num_blocks[0], stride=1)\n",
        "        self.layer2 = self._make_layer(block, 128, num_blocks[1], stride=2)\n",
        "        self.layer3 = self._make_layer(block, 256, num_blocks[2], stride=2)\n",
        "        self.layer4 = self._make_layer(block, 512, num_blocks[3], stride=2)\n",
        "        self.linear = nn.Linear(512, num_classes)\n",
        "        \n",
        "    def _make_layer(self, block, oup, num_block, stride=1):\n",
        "        layers = []\n",
        "        strides = [stride] + [1]*(num_block-1)\n",
        "        for stride in strides:\n",
        "            layers.append(block(self.inp, oup, stride))\n",
        "            self.inp = oup\n",
        "        return nn.Sequential(*layers)\n",
        "    \n",
        "    def forward(self, x):\n",
        "        out = self.relu(self.bn0(self.conv0(x)))\n",
        "        out = self.layer1(out)\n",
        "        out = self.layer2(out) \n",
        "        out = self.layer3(out)\n",
        "        out = self.layer4(out)\n",
        "        out = F.avg_pool2d(out, 4)\n",
        "        out = out.view(out.size(0), -1)\n",
        "        out = self.linear(out)\n",
        "        return out"
      ],
      "execution_count": 0,
      "outputs": []
    },
    {
      "cell_type": "markdown",
      "metadata": {
        "id": "xaGLxQ91MMro",
        "colab_type": "text"
      },
      "source": [
        "# Task1 : Implement 18-layer CNNs for CIFAR100"
      ]
    },
    {
      "cell_type": "code",
      "metadata": {
        "id": "ZdWLQy-tMMro",
        "colab_type": "code",
        "colab": {}
      },
      "source": [
        "class PlainBlock(nn.Module):\n",
        "    def __init__(self, inp, oup, stride=1):\n",
        "        super(PlainBlock, self).__init__()\n",
        "        \n",
        "        self.conv1 = nn.Conv2d(inp, oup, kernel_size=3, stride=stride, padding=1, bias=False)\n",
        "        self.bn1 = nn.BatchNorm2d(num_features=oup)\n",
        "        self.relu = nn.ReLU(inplace=True)\n",
        "\n",
        "        self.conv2 = nn.Conv2d(oup, oup, kernel_size=3, stride=1, padding=1, bias=False)\n",
        "        self.bn2 = nn.BatchNorm2d(num_features=oup)\n",
        "        \n",
        "    def forward(self, x):\n",
        "\n",
        "        out = self.conv1(x)\n",
        "        out = self.bn1(out)\n",
        "        out = self.relu(out)\n",
        "        out = self.conv2(out)\n",
        "        out = self.bn2(out)\n",
        "        out = self.relu(out)\n",
        "        \n",
        "        return out"
      ],
      "execution_count": 0,
      "outputs": []
    },
    {
      "cell_type": "markdown",
      "metadata": {
        "id": "GadQ7WPEMMrq",
        "colab_type": "text"
      },
      "source": [
        "# Task2 : Implement ResNet18 for CIFAR100"
      ]
    },
    {
      "cell_type": "code",
      "metadata": {
        "id": "JqehoVGkMMrq",
        "colab_type": "code",
        "colab": {}
      },
      "source": [
        "class ResidualBlock(nn.Module):\n",
        "\texpansion = 1\n",
        "\n",
        "\tdef __init__(self, inp, oup, stride=1):\n",
        "\t\tsuper(ResidualBlock, self).__init__()\n",
        "\t\tself.stride = stride\n",
        "\t\tself.conv1 = nn.Conv2d(inp, oup, kernel_size=3, stride=stride, padding=1, bias=False) \n",
        "\t\tself.bn1 = nn.BatchNorm2d(oup)\n",
        "\t\tself.relu = nn.ReLU(inplace=True)\n",
        "   \t\t\n",
        "\t\tself.conv2 = nn.Conv2d(oup, oup, kernel_size=3, stride=1, padding=1, bias=False) \n",
        "\t\tself.bn2 = nn.BatchNorm2d(oup)\n",
        "\t\t\n",
        "\t\tself.shortcut = nn.Sequential()\n",
        "\t\tif self.stride != 1 or inp != self.expansion * oup:\n",
        "\t\t\tself.shortcut = nn.Sequential(\n",
        "\t\t\t\t  nn.Conv2d(inp, self.expansion*oup, kernel_size=1, stride=stride, bias=True),\n",
        "\t\t\t\t  nn.BatchNorm2d(self.expansion*oup)\n",
        "\t\t\t)\n",
        "\n",
        "\tdef forward(self, x):\n",
        "\n",
        "\t\tout = self.conv1(x)\n",
        "\t\tout = self.bn1(out)\n",
        "\t\tout = self.relu(out)\n",
        "  \n",
        "\t\tout = self.conv2(out)\n",
        "\t\tout = self.bn2(out)\n",
        "\n",
        "\t\tout += self.shortcut(x)\n",
        "\n",
        "\t\tout = self.relu(out)\n",
        "  \n",
        "\t\treturn out"
      ],
      "execution_count": 0,
      "outputs": []
    },
    {
      "cell_type": "markdown",
      "metadata": {
        "id": "tL8g1cnlMMrs",
        "colab_type": "text"
      },
      "source": [
        "# Task3 : Implement MobileNet for CIFAR100"
      ]
    },
    {
      "cell_type": "code",
      "metadata": {
        "id": "BE0pEPgoMMrs",
        "colab_type": "code",
        "colab": {}
      },
      "source": [
        "class MobileBlock(nn.Module):\n",
        "    def __init__(self, inp, oup, stride=1):\n",
        "        super(MobileBlock, self).__init__()\n",
        "        \n",
        "        def conv_dw(inp, oup, stride):\n",
        "            return nn.Sequential(\n",
        "                # dw\n",
        "                nn.Conv2d(inp, oup, kernel_size=3, stride=stride, padding=1, groups=inp),\n",
        "                nn.BatchNorm2d(oup),\n",
        "                nn.ReLU(True),\n",
        "\n",
        "                # pw\n",
        "                nn.Conv2d(oup, oup, kernel_size=1, stride=1, padding=0),\n",
        "                nn.BatchNorm2d(oup),\n",
        "                nn.ReLU(True),\n",
        "                )\n",
        "        \n",
        "        self.model = conv_dw(inp, oup, stride=stride)\n",
        "\n",
        "    def forward(self, x):\n",
        "        out = self.model(x)\n",
        "        \n",
        "        return out"
      ],
      "execution_count": 0,
      "outputs": []
    },
    {
      "cell_type": "markdown",
      "metadata": {
        "id": "m8NIRGBt9JOU",
        "colab_type": "text"
      },
      "source": [
        "### Model Complexity"
      ]
    },
    {
      "cell_type": "code",
      "metadata": {
        "id": "dY_LJaznQGMx",
        "colab_type": "code",
        "colab": {}
      },
      "source": [
        "# FLOPS\n",
        "\n",
        "with torch.cuda.device(0):\n",
        "    net = plainnet_model\n",
        "    macs, params = get_model_complexity_info(net, (3, 32, 32), as_strings=True,\n",
        "                                           print_per_layer_stat=True, verbose=True)\n",
        "    print('{:<30}  {:<8}'.format('Computational complexity: ', macs))\n",
        "    print('{:<30}  {:<8}'.format('Number of parameters: ', params))"
      ],
      "execution_count": 0,
      "outputs": []
    },
    {
      "cell_type": "code",
      "metadata": {
        "id": "mmnhr3UV9HeE",
        "colab_type": "code",
        "colab": {}
      },
      "source": [
        "# FLOPS\n",
        "\n",
        "with torch.cuda.device(0):\n",
        "    net = mobilenet_model\n",
        "    macs, params = get_model_complexity_info(net, (3, 32, 32), as_strings=True,\n",
        "                                           print_per_layer_stat=True, verbose=True)\n",
        "    print('{:<30}  {:<8}'.format('Computational complexity: ', macs))\n",
        "    print('{:<30}  {:<8}'.format('Number of parameters: ', params))"
      ],
      "execution_count": 0,
      "outputs": []
    }
  ]
}